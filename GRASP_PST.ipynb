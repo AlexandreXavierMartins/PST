{
  "nbformat": 4,
  "nbformat_minor": 0,
  "metadata": {
    "colab": {
      "name": "GRASP PST.ipynb",
      "provenance": [],
      "authorship_tag": "ABX9TyOaZ2CrGUVh8Q8vD6BOTfGO",
      "include_colab_link": true
    },
    "kernelspec": {
      "name": "python3",
      "display_name": "Python 3"
    },
    "language_info": {
      "name": "python"
    }
  },
  "cells": [
    {
      "cell_type": "markdown",
      "metadata": {
        "id": "view-in-github",
        "colab_type": "text"
      },
      "source": [
        "<a href=\"https://colab.research.google.com/github/AlexandreXavierMartins/PST/blob/main/GRASP_PST.ipynb\" target=\"_parent\"><img src=\"https://colab.research.google.com/assets/colab-badge.svg\" alt=\"Open In Colab\"/></a>"
      ]
    },
    {
      "cell_type": "code",
      "metadata": {
        "colab": {
          "base_uri": "https://localhost:8080/",
          "height": 317
        },
        "id": "RJfkp2fLoH-O",
        "outputId": "0e2428cb-f9f3-4c84-d43e-84c3ed7394a1"
      },
      "source": [
        "import numpy as np\n",
        "import math\n",
        "import matplotlib.pyplot as plt\n",
        "\n",
        "\n",
        "def gera_sol_grasp(sol, n, alpha, tempos):\n",
        "  flag = n*[0]\n",
        "  flag[0] = 1 #Indica que a tarefa ZERO já está alocada\n",
        "  for i in range(1, n): #Para cada posição do vetor SOL aloca uma tarefa\n",
        "    anterior = sol[i-1] #recebe a última tarefa alocada\n",
        "    maior = -math.inf\n",
        "    menor = math.inf\n",
        "    for j in range(1, n):    #Percorre as tarefas\n",
        "      if(flag[j] == 0): #Somente para as não alocadas\n",
        "        if(tempos[j][anterior] < menor):\n",
        "          menor = tempos[j][anterior]\n",
        "        if(tempos[j][anterior] > maior):\n",
        "          maior = tempos[j][anterior]\n",
        "          \n",
        "    limite = menor + alpha*(maior - menor)\n",
        "    LRC = []\n",
        "    for j in range(1, n):\n",
        "      if(flag[j] == 0):\n",
        "        if(tempos[j][anterior] <= limite):\n",
        "          LRC.append(j)\n",
        "    #print(LRC)\n",
        "    if len(LRC) > 0:\n",
        "      j = np.random.randint(0, len(LRC))\n",
        "      #print(LRC)\n",
        "      #print('Sorteado ', LRC[j])\n",
        "      sol[i] = LRC[j]\n",
        "      flag[LRC[j]] = 1\n",
        "      #print(sol)\n",
        "    else: return sol\n",
        "  return sol\n",
        "\n",
        "#CALCULA O VALOR DE UMA SOLUÇÃO\n",
        "def calcula_fo(sol, n, tempos):\n",
        "  fo = 0\n",
        "  for i in range(1, n):\n",
        "    fo = fo + tempos[sol[i]][sol[i-1]]\n",
        "  return fo\n",
        "\n",
        "#CALCULA O VALOR DE UMA SOLUÇÃO\n",
        "def calcula_fo(sol, tempos, n):\n",
        "  fo = 0\n",
        "  for i in range(1, n):\n",
        "    fo = fo + tempos[sol[i]][sol[i-1]]\n",
        "  return fo\n",
        "\n",
        "def melhor_vizinho(sol, tempos, n):\n",
        "  best = math.inf\n",
        "  for i in range(1, n-1):\n",
        "    for j in range(i+1, n):\n",
        "      aux = sol[i]\n",
        "      sol[i] = sol[j]\n",
        "      sol[j] = aux\n",
        "      fo = calcula_fo(sol, tempos, n)\n",
        "      sol[j] = sol[i]\n",
        "      sol[i] = aux\n",
        "      if(fo < best):\n",
        "        best = fo\n",
        "        bi = i\n",
        "        bj = j\n",
        "  return bi, bj, best\n",
        "\n",
        "def busca_local(sol, tempos, n):\n",
        "  flag = 1\n",
        "  fo = calcula_fo(sol, tempos, n)\n",
        "  while flag == 1:\n",
        "    flag = 0\n",
        "    i, j, val = melhor_vizinho(sol, tempos, n)\n",
        "    if val < fo:\n",
        "      aux = sol[i]\n",
        "      sol[i] = sol[j]\n",
        "      sol[j] = aux\n",
        "      fo = val\n",
        "      flag = 1\n",
        "      #print(sol)\n",
        "      #print(fo)\n",
        "  return sol, fo\n",
        "\n",
        "#DADOS DO PROBLEMA-----------------------------------------------------------------#\n",
        "#Ótimo = 63 (Tenho que conferir)\n",
        "n = 11\n",
        "tempos = [\n",
        "           [1000.0,\t1000.0,\t1000.0,\t1000.0,\t1000.0,\t1000.0,\t1000.0,\t1000.0,\t1000.0,\t1000.0,\t1000.0],\t\n",
        "           [50.0,\t1000.0,\t13.0,\t40.0,\t21.0,\t2.0,\t8.0,\t15.0,\t24.0,\t37.0,\t4.0],\t\n",
        "           [34.0,\t6.0,\t1000.0,\t14.0,\t21.0,\t31.0,\t21.0,\t12.0,\t42.0,\t1.0,\t9.0],\t\n",
        "           [48.0,\t5.0,\t43.0,\t1000.0,\t45.0,\t43.0,\t37.0,\t28.0,\t20.0,\t36.0,\t20.0],\t\n",
        "           [38.0,\t44.0,\t7.0,\t3.0,\t1000.0,\t21.0,\t24.0,\t44.0,\t48.0,\t24.0,\t4.0],\t\n",
        "           [46.0,\t11.0,\t46.0,\t25.0,\t13.0,\t1000.0,\t3.0,\t35.0,\t37.0,\t22.0,\t27.0],\t\n",
        "           [22.0,\t2.0,\t32.0,\t29.0,\t23.0,\t42.0,\t1000.0,\t10.0,\t32.0,\t33.0,\t31.0],\t\n",
        "           [41.0,\t10.0,\t15.0,\t49.0,\t44.0,\t37.0,\t5.0,\t1000.0,\t50.0,\t25.0,\t22.0],\t\n",
        "           [16.0,\t12.0,\t10.0,\t29.0,\t16.0,\t50.0,\t49.0,\t14.0,\t1000.0,\t25.0,\t49.0],\t\n",
        "           [5.0,\t19.0,\t49.0,\t6.0,\t23.0,\t8.0,\t16.0,\t46.0,\t46.0,\t1000.0,\t24.0],\t\n",
        "           [50.0,\t28.0,\t4.0,\t50.0,\t26.0,\t1.0,\t37.0,\t23.0,\t34.0,\t39.0,\t1000.0]\n",
        "           ] \n",
        "#-------------------------------------------------------------------------------#\n",
        "#ESTATÍSTICAS------------------------#\n",
        "#fo_inicial = []\n",
        "fo_final = []\n",
        "xlabel = []\n",
        "media = 0\n",
        "#------------------------------------#\n",
        "#PARÂMETROS--------------------------#\n",
        "#np.random.seed(10000)\n",
        "itermax = 10\n",
        "alpha = 0.5\n",
        "#------------------------------------#\n",
        "\n",
        "experimentos = 20\n",
        "for i in range(experimentos):\n",
        "  xlabel.append(i)\n",
        "  sol_star = n*[0]\n",
        "  fo_star = +math.inf\n",
        "  for j in range(itermax):\n",
        "    sol = n*[0]\n",
        "    sol = gera_sol_grasp(sol, n, alpha, tempos)\n",
        "    sol, fo = busca_local(sol, tempos, n)\n",
        "    if fo < fo_star:\n",
        "      fo_star = fo\n",
        "      for k in range(1, n):\n",
        "        sol_star[k] = sol[k]\n",
        "  \n",
        "  media = media+fo_star\n",
        "  fo_final.append(fo_star)\n",
        "\n",
        "\n",
        "media = media/experimentos\n",
        "#print('Melhor solução = ', fo_star)\n",
        "#print('Melhor iteração =', best_iter)\n",
        "print('Média = ', media)\n",
        "#plt.scatter(xlabel, fo_inicial)\n",
        "plt.scatter(xlabel, fo_final)\n",
        "plt.title(\"FO em cada Iteração\", fontsize = 15, fontweight = 'bold')\n",
        "plt.xlabel(\"Iteração\", fontsize = 12, fontweight = 'bold')\n",
        "plt.ylabel(\"Função Objetivo\", fontsize = 12, fontweight = 'bold')\n",
        "plt.yticks(fontweight='bold')\n",
        "plt.show()\n"
      ],
      "execution_count": 32,
      "outputs": [
        {
          "output_type": "stream",
          "name": "stdout",
          "text": [
            "Média =  75.95\n"
          ]
        },
        {
          "output_type": "display_data",
          "data": {
            "image/png": "[encoded data removed]",
            "text/plain": [
              "<Figure size 432x288 with 1 Axes>"
            ]
          },
          "metadata": {
            "needs_background": "light"
          }
        }
      ]
    },
    {
      "cell_type": "code",
      "metadata": {
        "id": "CZaQ8vzlrbl_"
      },
      "source": [
        ""
      ],
      "execution_count": null,
      "outputs": []
    }
  ]
}
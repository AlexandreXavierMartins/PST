{
  "nbformat": 4,
  "nbformat_minor": 0,
  "metadata": {
    "colab": {
      "name": "MS0 PST.ipynb",
      "provenance": [],
      "collapsed_sections": [],
      "authorship_tag": "ABX9TyOpFJ2u5giTGdRoY7QKXCp9",
      "include_colab_link": true
    },
    "kernelspec": {
      "name": "python3",
      "display_name": "Python 3"
    },
    "language_info": {
      "name": "python"
    }
  },
  "cells": [
    {
      "cell_type": "markdown",
      "metadata": {
        "id": "view-in-github",
        "colab_type": "text"
      },
      "source": [
        "<a href=\"https://colab.research.google.com/github/AlexandreXavierMartins/PST/blob/main/MS0_PST.ipynb\" target=\"_parent\"><img src=\"https://colab.research.google.com/assets/colab-badge.svg\" alt=\"Open In Colab\"/></a>"
      ]
    },
    {
      "cell_type": "code",
      "metadata": {
        "colab": {
          "base_uri": "https://localhost:8080/"
        },
        "id": "DimL-gfWn3jn",
        "outputId": "ddbaa13e-675c-4dde-aec6-8506f020db86"
      },
      "source": [
        "import numpy as np\n",
        "import math\n",
        "import matplotlib.pyplot as plt\n",
        "\n",
        "\n",
        "def gera_sol(sol, n):\n",
        "  v = (n-1)*[0]\n",
        "  for i in range(n-1):\n",
        "    v[i] = i+1\n",
        "  #Embaralha\n",
        "  v = np.random.permutation(v)\n",
        "  for i in range(1, n):\n",
        "    sol[i] = v[i-1]\n",
        "  print(sol)\n",
        "\n",
        "#CALCULA O VALOR DE UMA SOLUÇÃO\n",
        "def calcula_fo(sol, tempos, n):\n",
        "  fo = 0\n",
        "  for i in range(1, n):\n",
        "    fo = fo + tempos[sol[i]][sol[i-1]]\n",
        "  return fo\n",
        "\n",
        "def melhor_vizinho(sol, tempos, n):\n",
        "  best = math.inf\n",
        "  for i in range(1, n-1):\n",
        "    for j in range(i+1, n):\n",
        "      aux = sol[i]\n",
        "      sol[i] = sol[j]\n",
        "      sol[j] = aux\n",
        "      fo = calcula_fo(sol, tempos, n)\n",
        "      sol[j] = sol[i]\n",
        "      sol[i] = aux\n",
        "      if(fo < best):\n",
        "        best = fo\n",
        "        bi = i\n",
        "        bj = j\n",
        "  return bi, bj, best\n",
        "\n",
        "def busca_local(sol, tempos, n):\n",
        "  flag = 1\n",
        "  fo = calcula_fo(sol, tempos, n)\n",
        "  while flag == 1:\n",
        "    flag = 0\n",
        "    i, j, val = melhor_vizinho(sol, tempos, n)\n",
        "    if val < fo:\n",
        "      aux = sol[i]\n",
        "      sol[i] = sol[j]\n",
        "      sol[j] = aux\n",
        "      fo = val\n",
        "      flag = 1\n",
        "      print(sol)\n",
        "      print(fo)\n",
        "\n",
        "#DADOS DO PROBLEMA-----------------------------------------------------------------#\n",
        "#Ótimo = 63 (Tenho que conferir)\n",
        "n = 11\n",
        "tempos = [\n",
        "           [1000.0,\t1000.0,\t1000.0,\t1000.0,\t1000.0,\t1000.0,\t1000.0,\t1000.0,\t1000.0,\t1000.0,\t1000.0],\t\n",
        "           [50.0,\t1000.0,\t13.0,\t40.0,\t21.0,\t2.0,\t8.0,\t15.0,\t24.0,\t37.0,\t4.0],\t\n",
        "           [34.0,\t6.0,\t1000.0,\t14.0,\t21.0,\t31.0,\t21.0,\t12.0,\t42.0,\t1.0,\t9.0],\t\n",
        "           [48.0,\t5.0,\t43.0,\t1000.0,\t45.0,\t43.0,\t37.0,\t28.0,\t20.0,\t36.0,\t20.0],\t\n",
        "           [38.0,\t44.0,\t7.0,\t3.0,\t1000.0,\t21.0,\t24.0,\t44.0,\t48.0,\t24.0,\t4.0],\t\n",
        "           [46.0,\t11.0,\t46.0,\t25.0,\t13.0,\t1000.0,\t3.0,\t35.0,\t37.0,\t22.0,\t27.0],\t\n",
        "           [22.0,\t2.0,\t32.0,\t29.0,\t23.0,\t42.0,\t1000.0,\t10.0,\t32.0,\t33.0,\t31.0],\t\n",
        "           [41.0,\t10.0,\t15.0,\t49.0,\t44.0,\t37.0,\t5.0,\t1000.0,\t50.0,\t25.0,\t22.0],\t\n",
        "           [16.0,\t12.0,\t10.0,\t29.0,\t16.0,\t50.0,\t49.0,\t14.0,\t1000.0,\t25.0,\t49.0],\t\n",
        "           [5.0,\t19.0,\t49.0,\t6.0,\t23.0,\t8.0,\t16.0,\t46.0,\t46.0,\t1000.0,\t24.0],\t\n",
        "           [50.0,\t28.0,\t4.0,\t50.0,\t26.0,\t1.0,\t37.0,\t23.0,\t34.0,\t39.0,\t1000.0]\n",
        "           ] \n",
        "#-------------------------------------------------------------------------------#\n",
        "#ESTATÍSTICAS------------------------#\n",
        "fo_inicial = []\n",
        "fo_final = []\n",
        "xlabel = []\n",
        "media = 0\n",
        "#------------------------------------#\n",
        "#PARÂMETROS--------------------------#\n",
        "np.random.seed(10000)\n",
        "itermax = 20\n",
        "#------------------------------------#\n",
        "\n",
        "sol = n*[0]\n",
        "gera_sol(sol, n)\n",
        "busca_local(sol, tempos, n)\n",
        "\n",
        "\n",
        "#media = media/itermax\n",
        "#print('Melhor solução = ', fo_star)\n",
        "#print('Melhor iteração =', best_iter)\n",
        "#print('Média = ', media)\n",
        "#plt.scatter(xlabel, fo_inicial)\n",
        "#plt.scatter(xlabel, fo_final)\n",
        "#plt.title(\"FO em cada Iteração\", fontsize = 15, fontweight = 'bold')\n",
        "#plt.xlabel(\"Iteração\", fontsize = 12, fontweight = 'bold')\n",
        "#plt.ylabel(\"Função Objetivo\", fontsize = 12, fontweight = 'bold')\n",
        "#plt.yticks(fontweight='bold')\n",
        "#plt.show()\n"
      ],
      "execution_count": 22,
      "outputs": [
        {
          "output_type": "stream",
          "name": "stdout",
          "text": [
            "[0, 5, 7, 4, 2, 1, 10, 3, 8, 9, 6]\n",
            "[0, 5, 10, 4, 2, 1, 7, 3, 8, 9, 6]\n",
            "231.0\n",
            "[0, 5, 10, 4, 2, 1, 7, 8, 3, 9, 6]\n",
            "168.0\n",
            "[0, 5, 10, 4, 6, 1, 7, 8, 3, 9, 2]\n",
            "133.0\n",
            "[0, 5, 10, 4, 1, 6, 7, 8, 3, 9, 2]\n",
            "120.0\n"
          ]
        }
      ]
    }
  ]
}
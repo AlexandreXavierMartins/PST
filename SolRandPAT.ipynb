{
  "nbformat": 4,
  "nbformat_minor": 0,
  "metadata": {
    "colab": {
      "provenance": [],
      "authorship_tag": "ABX9TyOzsgXdky2aa82iV7bP9pvI",
      "include_colab_link": true
    },
    "kernelspec": {
      "name": "python3",
      "display_name": "Python 3"
    },
    "language_info": {
      "name": "python"
    }
  },
  "cells": [
    {
      "cell_type": "markdown",
      "metadata": {
        "id": "view-in-github",
        "colab_type": "text"
      },
      "source": [
        "<a href=\"https://colab.research.google.com/github/AlexandreXavierMartins/PST/blob/main/SolRandPAT.ipynb\" target=\"_parent\"><img src=\"https://colab.research.google.com/assets/colab-badge.svg\" alt=\"Open In Colab\"/></a>"
      ]
    },
    {
      "cell_type": "code",
      "execution_count": 3,
      "metadata": {
        "colab": {
          "base_uri": "https://localhost:8080/"
        },
        "id": "sJKA4crZ--5U",
        "outputId": "a1ca8680-dddb-4ef5-abc3-409a742548e9"
      },
      "outputs": [
        {
          "output_type": "stream",
          "name": "stdout",
          "text": [
            "[0, 6, 3, 5, 1, 2, 4]\n"
          ]
        }
      ],
      "source": [
        "import math\n",
        "import numpy as np\n",
        "\n",
        "\n",
        "def gera_sol(sol, n):\n",
        "  v = (n-1)*[0]\n",
        "  for i in range(n-1):\n",
        "    v[i] = i+1\n",
        "  #Embaralha\n",
        "  v = np.random.permutation(v)\n",
        "  for i in range(1, n):\n",
        "    sol[i] = v[i-1]\n",
        "  print(sol)\n",
        "\n",
        "\n",
        "inf = math.inf\n",
        "tempos =  [\n",
        "           [inf, inf, inf, inf, inf, inf, inf],\n",
        "           [5, inf, 3, 9, 4, 2, 6],\n",
        "           [3, 3, inf, 6, 2, 3, 5],\n",
        "           [4, 9, 6, inf, 7, 2, 6],\n",
        "           [7, 4, 2, 7, inf, 4, 8],\n",
        "           [2, 2, 3, 3, 4, inf, 1],\n",
        "           [1, 6, 5, 5, 8, 1, inf]\n",
        "           ]\n",
        "n = 7\n",
        "\n",
        "#np.random.seed(1000) #Semente para gerar números aleatórios, se fixado gerará sempre a mesma sequência de números\n",
        "\n",
        "\n",
        "sol = n*[0]\n",
        "gera_sol(sol, n)\n"
      ]
    }
  ]
}
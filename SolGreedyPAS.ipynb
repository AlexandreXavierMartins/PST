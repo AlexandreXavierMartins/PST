{
  "nbformat": 4,
  "nbformat_minor": 0,
  "metadata": {
    "colab": {
      "provenance": [],
      "authorship_tag": "ABX9TyP4SQvAFw3DGvX+VElavU5Z",
      "include_colab_link": true
    },
    "kernelspec": {
      "name": "python3",
      "display_name": "Python 3"
    },
    "language_info": {
      "name": "python"
    }
  },
  "cells": [
    {
      "cell_type": "markdown",
      "metadata": {
        "id": "view-in-github",
        "colab_type": "text"
      },
      "source": [
        "<a href=\"https://colab.research.google.com/github/AlexandreXavierMartins/PST/blob/main/SolGreedyPAS.ipynb\" target=\"_parent\"><img src=\"https://colab.research.google.com/assets/colab-badge.svg\" alt=\"Open In Colab\"/></a>"
      ]
    },
    {
      "cell_type": "code",
      "execution_count": null,
      "metadata": {
        "id": "5vw-bdi8qpLl"
      },
      "outputs": [],
      "source": [
        "import math\n",
        "\n",
        "inf = math.inf\n",
        "\n",
        "tempos =  [\n",
        "           [inf, inf, inf, inf, inf, inf, inf],\n",
        "           [5, inf, 3, 9, 4, 2, 6],\n",
        "           [3, 3, inf, 6, 2, 3, 5],\n",
        "           [4, 9, 6, inf, 7, 2, 6],\n",
        "           [7, 4, 2, 7, inf, 4, 8],\n",
        "           [2, 2, 3, 3, 4, inf, 1],\n",
        "           [1, 6, 5, 5, 8, 1, inf]\n",
        "           ]\n",
        "\n",
        "n = 7\n",
        "sol = [0]\n",
        "\n",
        "def gera_sol_greedy(n, sol):\n",
        "  col = 0 #Coluna inicial de análise\n",
        "  flag = n*[0] # Vetor que guarda as tarefas já alocadas\n",
        "  flag[0]  = 1 #Tarefa ZERO já alocada na máquina\n",
        "\n",
        "  for i in range(1, n):\n",
        "    menor = inf\n",
        "    for tarefa in range(1, n):\n",
        "      if flag[tarefa] == 0 and tempos[tarefa][col] < menor:\n",
        "        menor = tempos[tarefa][col]\n",
        "        j = tarefa\n",
        "    #Aloca a nova tarefa\n",
        "    flag[j] = 1  \n",
        "    sol.append(j)\n",
        "    #Nova tarefa será nova coluna analisada para próxima alocação\n",
        "    col = j \n",
        "  return sol\n",
        "\n",
        "def calcula_fo(n, sol):\n",
        "  fo = 0\n",
        "  for i in range(1, n):\n",
        "    fo = fo + tempos[sol[i]][sol[i-1]]\n",
        "  return fo\n",
        "\n",
        "sol = gera_sol_greedy(n, sol)\n",
        "\n",
        "print(sol)\n",
        "print(calcula_fo(n, sol))\n",
        "\n"
      ]
    }
  ]
}
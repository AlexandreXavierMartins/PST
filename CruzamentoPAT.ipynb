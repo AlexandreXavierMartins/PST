{
  "nbformat": 4,
  "nbformat_minor": 0,
  "metadata": {
    "colab": {
      "provenance": [],
      "authorship_tag": "ABX9TyNTwwzl/d9bka9GUC+c5ePR",
      "include_colab_link": true
    },
    "kernelspec": {
      "name": "python3",
      "display_name": "Python 3"
    },
    "language_info": {
      "name": "python"
    }
  },
  "cells": [
    {
      "cell_type": "markdown",
      "metadata": {
        "id": "view-in-github",
        "colab_type": "text"
      },
      "source": [
        "<a href=\"https://colab.research.google.com/github/AlexandreXavierMartins/PST/blob/main/CruzamentoPAT.ipynb\" target=\"_parent\"><img src=\"https://colab.research.google.com/assets/colab-badge.svg\" alt=\"Open In Colab\"/></a>"
      ]
    },
    {
      "cell_type": "code",
      "execution_count": 5,
      "metadata": {
        "colab": {
          "base_uri": "https://localhost:8080/"
        },
        "id": "FQUYjIAxyVrz",
        "outputId": "014c9d04-47ed-44fd-c8bd-f13a4e140c70"
      },
      "outputs": [
        {
          "output_type": "stream",
          "name": "stdout",
          "text": [
            "[0, 6, 8, 7, 4, 10, 1, 5, 3, 9, 2]\n",
            "[0, 9, 7, 3, 2, 6, 5, 4, 1, 8, 10]\n",
            "[0, 6, 8, 7, 4, 10, 9, 3, 2, 5, 1]\n",
            "[0, 9, 7, 3, 2, 6, 8, 4, 10, 1, 5]\n"
          ]
        }
      ],
      "source": [
        "import numpy as np\n",
        "import math\n",
        "\n",
        "def cruzamento(s1, s2, n):\n",
        "  p = int(n/2)+1\n",
        "  #print(p)\n",
        "  flag = n*[0]\n",
        "  f1 = s1[0:p]\n",
        "  #print(f1)\n",
        "  for i in range(len(f1)):\n",
        "    flag[f1[i]] = 1\n",
        "  #print(flag)\n",
        "  for i in range(1, n):\n",
        "    if flag[s2[i]] == 0:\n",
        "      f1.append(s2[i])\n",
        "      flag[s2[i]] = 1\n",
        "  #print(f1)\n",
        "  #print(flag)\n",
        "  return f1\n",
        "\n",
        "def gera_sol(sol, n):\n",
        "  v = (n-1)*[0]\n",
        "  for i in range(n-1):\n",
        "    v[i] = i+1\n",
        "  #Embaralha\n",
        "  v = np.random.permutation(v)\n",
        "  for i in range(1, n):\n",
        "    sol[i] = v[i-1]\n",
        "  return sol\n",
        "\n",
        "\n",
        "#DADOS DO PROBLEMA-----------------------------------------------------------------#\n",
        "#Ótimo = 63 (Tenho que conferir)\n",
        "n = 11\n",
        "tempos = [\n",
        "           [1000.0,\t1000.0,\t1000.0,\t1000.0,\t1000.0,\t1000.0,\t1000.0,\t1000.0,\t1000.0,\t1000.0,\t1000.0],\t\n",
        "           [50.0,\t1000.0,\t13.0,\t40.0,\t21.0,\t2.0,\t8.0,\t15.0,\t24.0,\t37.0,\t4.0],\t\n",
        "           [34.0,\t6.0,\t1000.0,\t14.0,\t21.0,\t31.0,\t21.0,\t12.0,\t42.0,\t1.0,\t9.0],\t\n",
        "           [48.0,\t5.0,\t43.0,\t1000.0,\t45.0,\t43.0,\t37.0,\t28.0,\t20.0,\t36.0,\t20.0],\t\n",
        "           [38.0,\t44.0,\t7.0,\t3.0,\t1000.0,\t21.0,\t24.0,\t44.0,\t48.0,\t24.0,\t4.0],\t\n",
        "           [46.0,\t11.0,\t46.0,\t25.0,\t13.0,\t1000.0,\t3.0,\t35.0,\t37.0,\t22.0,\t27.0],\t\n",
        "           [22.0,\t2.0,\t32.0,\t29.0,\t23.0,\t42.0,\t1000.0,\t10.0,\t32.0,\t33.0,\t31.0],\t\n",
        "           [41.0,\t10.0,\t15.0,\t49.0,\t44.0,\t37.0,\t5.0,\t1000.0,\t50.0,\t25.0,\t22.0],\t\n",
        "           [16.0,\t12.0,\t10.0,\t29.0,\t16.0,\t50.0,\t49.0,\t14.0,\t1000.0,\t25.0,\t49.0],\t\n",
        "           [5.0,\t19.0,\t49.0,\t6.0,\t23.0,\t8.0,\t16.0,\t46.0,\t46.0,\t1000.0,\t24.0],\t\n",
        "           [50.0,\t28.0,\t4.0,\t50.0,\t26.0,\t1.0,\t37.0,\t23.0,\t34.0,\t39.0,\t1000.0]\n",
        "           ] \n",
        "#-------------------------------------------------------------------------------#\n",
        "\n",
        "s1 = n*[0]\n",
        "s1 = gera_sol(s1, n)\n",
        "s2 = n*[0]\n",
        "s2 = gera_sol(s2, n)\n",
        "\n",
        "print(s1)\n",
        "print(s2)\n",
        "f1 = cruzamento(s1, s2, n)\n",
        "print(f1)\n",
        "f2 = cruzamento(s2, s1, n)\n",
        "print(f2)\n"
      ]
    }
  ]
}
{
  "nbformat": 4,
  "nbformat_minor": 0,
  "metadata": {
    "colab": {
      "name": "PST4.ipynb",
      "provenance": [],
      "collapsed_sections": [],
      "authorship_tag": "ABX9TyNK8tlW4HIkvEc3oLy8sWWk",
      "include_colab_link": true
    },
    "kernelspec": {
      "name": "python3",
      "display_name": "Python 3"
    },
    "language_info": {
      "name": "python"
    }
  },
  "cells": [
    {
      "cell_type": "markdown",
      "metadata": {
        "id": "view-in-github",
        "colab_type": "text"
      },
      "source": [
        "<a href=\"https://colab.research.google.com/github/AlexandreXavierMartins/PST/blob/main/PST4.ipynb\" target=\"_parent\"><img src=\"https://colab.research.google.com/assets/colab-badge.svg\" alt=\"Open In Colab\"/></a>"
      ]
    },
    {
      "cell_type": "code",
      "metadata": {
        "colab": {
          "base_uri": "https://localhost:8080/"
        },
        "id": "2cQYiHqut67t",
        "outputId": "c8dbbacc-9d5e-4983-abfc-3bdb3acd6a1e"
      },
      "source": [
        "import math\n",
        "inf = math.inf\n",
        "\n",
        "def gera_sol(sol, n, tempos):\n",
        "  flag = n*[0]\n",
        "  flag[0] = 1 #Indica que a tarefa ZERO já está alocada\n",
        "  for i in range(1, n): #Para cada posição do vetor SOL aloca uma tarefa\n",
        "    anterior = sol[i-1] #recebe a última tarefa alocada\n",
        "    menor = math.inf\n",
        "    best_j = -1\n",
        "    for j in range(1, n):    #Percorre as tarefas\n",
        "      if(flag[j] == 0): #Somente para as não alocadas\n",
        "        if(tempos[j][anterior] < menor):\n",
        "          menor = tempos[j][anterior]\n",
        "          best_j = j\n",
        "    if(best_j > 0):\n",
        "      sol[i] = best_j\n",
        "      flag[best_j] = 1\n",
        "  return sol\n",
        "#CALCULA O VALOR DE UMA SOLUÇÃO\n",
        "def calcula_fo(sol, n, tempos):\n",
        "  fo = 0\n",
        "  for i in range(1, n):\n",
        "    fo = fo + tempos[sol[i]][sol[i-1]]\n",
        "  return fo\n",
        "\n",
        "\n",
        "#DADOS DO PROBLEMA#\n",
        "n = 11\n",
        "tempos = [\n",
        "           [1000.0,\t1000.0,\t1000.0,\t1000.0,\t1000.0,\t1000.0,\t1000.0,\t1000.0,\t1000.0,\t1000.0,\t1000.0],\t\n",
        "           [50.0,\t1000.0,\t13.0,\t40.0,\t21.0,\t2.0,\t8.0,\t15.0,\t24.0,\t37.0,\t4.0],\t\n",
        "           [34.0,\t6.0,\t1000.0,\t14.0,\t21.0,\t31.0,\t21.0,\t12.0,\t42.0,\t1.0,\t9.0],\t\n",
        "           [48.0,\t5.0,\t43.0,\t1000.0,\t45.0,\t43.0,\t37.0,\t28.0,\t20.0,\t36.0,\t20.0],\t\n",
        "           [38.0,\t44.0,\t7.0,\t3.0,\t1000.0,\t21.0,\t24.0,\t44.0,\t48.0,\t24.0,\t4.0],\t\n",
        "           [46.0,\t11.0,\t46.0,\t25.0,\t13.0,\t1000.0,\t3.0,\t35.0,\t37.0,\t22.0,\t27.0],\t\n",
        "           [22.0,\t2.0,\t32.0,\t29.0,\t23.0,\t42.0,\t1000.0,\t10.0,\t32.0,\t33.0,\t31.0],\t\n",
        "           [41.0,\t10.0,\t15.0,\t49.0,\t44.0,\t37.0,\t5.0,\t1000.0,\t50.0,\t25.0,\t22.0],\t\n",
        "           [16.0,\t12.0,\t10.0,\t29.0,\t16.0,\t50.0,\t49.0,\t14.0,\t1000.0,\t25.0,\t49.0],\t\n",
        "           [5.0,\t19.0,\t49.0,\t6.0,\t23.0,\t8.0,\t16.0,\t46.0,\t46.0,\t1000.0,\t24.0],\t\n",
        "           [50.0,\t28.0,\t4.0,\t50.0,\t26.0,\t1.0,\t37.0,\t23.0,\t34.0,\t39.0,\t1000.0]\n",
        "           ] \n",
        "#-------------------------------------------------------------------------------#\n",
        "\n",
        "sol = n*[0]\n",
        "sol = gera_sol(sol, n, tempos)\n",
        "fo = calcula_fo(sol, n, tempos)\n",
        "\n",
        "print(sol)\n",
        "print(fo)\n"
      ],
      "execution_count": null,
      "outputs": [
        {
          "output_type": "stream",
          "name": "stdout",
          "text": [
            "inf\n",
            "inf\n",
            "inf\n",
            "inf\n",
            "inf\n",
            "inf\n",
            "inf\n",
            "inf\n",
            "inf\n",
            "inf\n",
            "[0, 9, 2, 10, 1, 6, 5, 4, 8, 3, 7]\n",
            "125.0\n"
          ]
        }
      ]
    }
  ]
}